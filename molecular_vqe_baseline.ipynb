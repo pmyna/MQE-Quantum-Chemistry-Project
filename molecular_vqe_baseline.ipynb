{
 "cells": [
  {
   "cell_type": "markdown",
   "id": "59d54ae1",
   "metadata": {},
   "source": [
    "# Quantum Chemistry with VQE"
   ]
  },
  {
   "cell_type": "markdown",
   "id": "222f1fbd",
   "metadata": {},
   "source": [
    "This notebook demonstrates the basic workflow for molecular ground state calculations using PennyLane. \n",
    "\n",
    "\\* *Demonstrated on $H_{2}$ and $H_{3}^+$ molecules.*"
   ]
  },
  {
   "cell_type": "markdown",
   "id": "f46a964c",
   "metadata": {},
   "source": [
    "## First Example\n",
    "\n",
    "In the first example, we will see how a molecule is defined in qubits and how the HF method is applied to calculate the slater determinant."
   ]
  },
  {
   "cell_type": "code",
   "execution_count": 1,
   "id": "1e9b4f5f",
   "metadata": {},
   "outputs": [],
   "source": [
    "# Import statements\n",
    "\n",
    "import pennylane as qml\n",
    "from pennylane import numpy as np\n",
    "from pennylane import qchem # qchem module to perform quantum chemistry simulations\n",
    "import matplotlib.pyplot as plt\n",
    "\n",
    "import warnings\n",
    "warnings.filterwarnings('ignore')"
   ]
  },
  {
   "cell_type": "markdown",
   "id": "cd395176",
   "metadata": {},
   "source": [
    "### 1. Define $H_{2}$ Molecule\n",
    "Define a molecule with two hydrogen atoms with bond length of 0.673 Angstroms, which is close to the average experimental bond length. Bond lengths can be looked up in a chemistry database (e.g. https://cccbdb.nist.gov/alldata1x.asp) or by using the implemented qchem database (qml.qchem.mol_data)."
   ]
  },
  {
   "cell_type": "code",
   "execution_count": 2,
   "id": "760e4e2c",
   "metadata": {},
   "outputs": [],
   "source": [
    "symbols = [\"H\", \"H\"]\n",
    "coordinates = np.array([[-0.673, 0, 0], [0.673, 0, 0]])"
   ]
  },
  {
   "cell_type": "markdown",
   "id": "b71c4e2b",
   "metadata": {},
   "source": [
    "### 2. Define the Hamiltonian and qubits\n",
    "\n",
    "Pennylane converts our classical molecule into a Hamiltonian that describes the energy. \n",
    "\n",
    "We see that we need 4 qubits to represent the molecular orbitals and electron spins.\n",
    "\n",
    "The Hartree-Fock approximation calculates the Hamiltonian as well as the required qubits for our molecule. The Hamiltonian is represented in Pauli decomposition with the coefficients, with each term representing different interactions."
   ]
  },
  {
   "cell_type": "code",
   "execution_count": 3,
   "id": "2a0d33de",
   "metadata": {},
   "outputs": [
    {
     "name": "stdout",
     "output_type": "stream",
     "text": [
      "Number of required Qubits: 4\n",
      "HF-approximate Hamiltonian: -0.059722777506507174 * I([0, 1, 2, 3]) + 0.17574790106889876 * Z(0) + 0.17574790106889876 * Z(1) + 0.1700120046062239 * (Z(0) @ Z(1)) + -0.23663556589795115 * Z(2) + 0.12222295790716331 * (Z(0) @ Z(2)) + 0.16714112448986262 * (Z(1) @ Z(2)) + 0.044918166582699315 * (Y(0) @ X(1) @ X(2) @ Y(3)) + -0.044918166582699315 * (Y(0) @ Y(1) @ X(2) @ X(3)) + -0.044918166582699315 * (X(0) @ X(1) @ Y(2) @ Y(3)) + 0.044918166582699315 * (X(0) @ Y(1) @ Y(2) @ X(3)) + -0.23663556589795115 * Z(3) + 0.16714112448986262 * (Z(0) @ Z(3)) + 0.12222295790716331 * (Z(1) @ Z(3)) + 0.1756999882843957 * (Z(2) @ Z(3))\n"
     ]
    }
   ],
   "source": [
    "Hamiltonian, qubits = qchem.molecular_hamiltonian(symbols, coordinates)\n",
    "\n",
    "print(f\"Number of required Qubits: {qubits}\")\n",
    "print(f\"HF-approximate Hamiltonian: {Hamiltonian}\")"
   ]
  },
  {
   "cell_type": "markdown",
   "id": "55062514",
   "metadata": {},
   "source": [
    "### 3. Build the Quantum Circuit\n",
    "For the circuit, we build a quantum device and node. We then use the BasisState operation to initialize the qubits and return the expectation value of the states' Hamiltonian."
   ]
  },
  {
   "cell_type": "markdown",
   "id": "127739ec",
   "metadata": {},
   "source": [
    "*qml.device* is a function used to load a particular quantum device, which can then be used to construct QNodes. Pennylane has different simulators for different devices, but the one we chose is the *default.qubit*, which is a simple state simulator of qubit-based quantum circuit architectures.\n",
    "\n",
    "A quntum node contains a quantum function and the computational device it is executed on."
   ]
  },
  {
   "cell_type": "code",
   "execution_count": 4,
   "id": "2ba958a1",
   "metadata": {},
   "outputs": [],
   "source": [
    "dev = qml.device(\"default.qubit\", wires = qubits)\n",
    "\n",
    "@qml.qnode(dev)\n",
    "def exp_energy(state):\n",
    "    qml.BasisState(np.array(state), range(qubits))\n",
    "    return qml.expval(Hamiltonian)"
   ]
  },
  {
   "cell_type": "markdown",
   "id": "51a32dbe",
   "metadata": {},
   "source": [
    "After building the circuit, we run an example state and calculate its energy:"
   ]
  },
  {
   "cell_type": "code",
   "execution_count": 5,
   "id": "6fd2f73b",
   "metadata": {},
   "outputs": [
    {
     "data": {
      "text/plain": [
       "tensor(-0.4952711, requires_grad=True)"
      ]
     },
     "execution_count": 5,
     "metadata": {},
     "output_type": "execute_result"
    }
   ],
   "source": [
    "exp_energy([1, 0, 1, 0]) # jordan wigner representation"
   ]
  },
  {
   "cell_type": "markdown",
   "id": "fb7d62af",
   "metadata": {},
   "source": [
    "### 4. Hartree-Fock Method /  Slater determinant\n",
    "\n",
    "We can see that our random state guess doesn't represent the ground state, as the energy is *not* the minimum. Therefore, we will use the Hartree-Fock method to approximate the ground state and determine it's expectation value.\n",
    "\n",
    "\\*  Slater determinant: describes the wave function of a multi-fermionic system. In general, as well as in our case, a single Slater determinant is used as an approximation to the electronic wavefunction in Hartree–Fock theory. "
   ]
  },
  {
   "cell_type": "code",
   "execution_count": 6,
   "id": "fca3cefc",
   "metadata": {},
   "outputs": [
    {
     "name": "stdout",
     "output_type": "stream",
     "text": [
      "Ground State calculated by HF method: [1 1 0 0]\n",
      "Energy of the HF ground state: -1.1175058833436393 Ha\n"
     ]
    }
   ],
   "source": [
    "HF = qchem.hf_state(electrons=2, orbitals=qubits) # orbitals refers to spin orbitals\n",
    "print(f\"Ground State calculated by HF method: {HF}\")\n",
    "print(f\"Energy of the HF ground state: {exp_energy(HF)} Ha\")"
   ]
  },
  {
   "cell_type": "code",
   "execution_count": 7,
   "id": "0de93ff3",
   "metadata": {},
   "outputs": [
    {
     "name": "stdout",
     "output_type": "stream",
     "text": [
      "Comparison for the H₂ molecule:\n",
      "Random state [1,0,1,0]: -0.49527110 Ha\n",
      "Hartree-Fock state:     -1.11750588 Ha\n",
      "HF improvement:         622.235 mHa\n"
     ]
    }
   ],
   "source": [
    "h2_hf_energy = exp_energy(HF)\n",
    "print(f\"Comparison for the H₂ molecule:\")\n",
    "print(f\"Random state [1,0,1,0]: {exp_energy([1, 0, 1, 0]):.8f} Ha\")\n",
    "print(f\"Hartree-Fock state:     {h2_hf_energy:.8f} Ha\")\n",
    "print(f\"HF improvement:         {(exp_energy([1, 0, 1, 0]) - h2_hf_energy)*1000:.3f} mHa\")"
   ]
  },
  {
   "cell_type": "markdown",
   "id": "881e79ce",
   "metadata": {},
   "source": [
    "We have a much better starting point at -1.117 Ha. This assumes electrons move independently, but it's still not returning the absolute minimum. \n",
    "\n",
    "This is why it needs a post-HF workflow, like the variational quantum eigensolver (VQE), which can capture the missing electron correlations to find the true ground state."
   ]
  },
  {
   "cell_type": "markdown",
   "id": "01dcaea6",
   "metadata": {},
   "source": [
    "## Second Example with Optimization\n",
    "For this example, we will simulate a $H_{3}^+$ molecule with two electrons (+1 charge). In addition to our first Ansatz, we will use a VQE algorithm to optimize our workflow and find the ground state.\n",
    "\n",
    "### 1. Define molecule and determine the HF state"
   ]
  },
  {
   "cell_type": "code",
   "execution_count": 8,
   "id": "8589a6a7",
   "metadata": {},
   "outputs": [
    {
     "name": "stdout",
     "output_type": "stream",
     "text": [
      "Ground State calculated by HF method: [1 1 0 0 0 0]\n"
     ]
    }
   ],
   "source": [
    "symbols = [\"H\", \"H\", \"H\"]\n",
    "coordinates = np.array([[0.0102, 0.0442, 0.0], [0.9867, 1.6303, 0.0], [1.8720, -0.0085, 0.0]]) # coordinates given by DB\n",
    "\n",
    "H, qb = qchem.molecular_hamiltonian(symbols, coordinates, charge=1)\n",
    "\n",
    "HF_state = qchem.hf_state(2, qb)\n",
    "print(f\"Ground State calculated by HF method: {HF_state}\")"
   ]
  },
  {
   "cell_type": "markdown",
   "id": "2fd04d13",
   "metadata": {},
   "source": [
    "### 2. Determine initial HF-Energy\n",
    "We are using the same circuit as before to initalize our HF state and calculate its expected energy."
   ]
  },
  {
   "cell_type": "code",
   "execution_count": 9,
   "id": "e173246e",
   "metadata": {},
   "outputs": [],
   "source": [
    "dev = qml.device(\"default.qubit\", qb)\n",
    "\n",
    "@qml.qnode(dev)\n",
    "def exp_energy(state):\n",
    "    qml.BasisState(np.array(state), range(qb))\n",
    "    return qml.expval(H)"
   ]
  },
  {
   "cell_type": "code",
   "execution_count": 10,
   "id": "61e679ec",
   "metadata": {},
   "outputs": [
    {
     "name": "stdout",
     "output_type": "stream",
     "text": [
      "H₃⁺ Hartree-Fock energy: -1.24655016 Ha\n"
     ]
    }
   ],
   "source": [
    "h3_hf_energy = exp_energy(HF_state)\n",
    "print(f\"H₃⁺ Hartree-Fock energy: {h3_hf_energy:.8f} Ha\")"
   ]
  },
  {
   "cell_type": "markdown",
   "id": "9d698af2",
   "metadata": {},
   "source": [
    "### 3. The VQE Ansatz\n",
    "\n",
    "For the Ansatz, we choose the superposition:\n",
    "\n",
    "$$\\alpha \\ket{110000} + \\beta \\ket{001100} + \\gamma \\ket{000011}$$\n",
    "\n",
    "In the HF approximation some interactions between the electrons are neglected, which are strongest when they are in the same energy level. Using this Ansatz accounts for the errors occurring in the HF method."
   ]
  },
  {
   "cell_type": "code",
   "execution_count": 11,
   "id": "c4f01b62",
   "metadata": {},
   "outputs": [],
   "source": [
    "def ansatz(params):\n",
    "    qml.BasisState(HF_state, range(qb))\n",
    "    qml.DoubleExcitation(params[0], wires=[0,1,2,3])\n",
    "    qml.DoubleExcitation(params[1], wires=[0,1,4,5])"
   ]
  },
  {
   "cell_type": "markdown",
   "id": "710c2ac8",
   "metadata": {},
   "source": [
    "### 4. The Cost Function\n",
    "With our Ansatz, we can now evaluate the minimum energy depending on the angles $\\theta_1$ and $\\theta_2$ in the excitation gates. To find the ground state, we make use of the Ritz variational principle, stating the ground state is the state that minimizes the expectation value of the Hamiltonian:\n",
    "\n",
    "$$E_0 \\leq min \\bra{\\psi}\\hat{H}\\ket{\\psi}$$"
   ]
  },
  {
   "cell_type": "markdown",
   "id": "3b878f8f",
   "metadata": {},
   "source": [
    "The cost function runs the ansatz and returns the energy. VQE will minimize this energy by adjusting the parameters."
   ]
  },
  {
   "cell_type": "code",
   "execution_count": 12,
   "id": "efb84919",
   "metadata": {},
   "outputs": [
    {
     "name": "stdout",
     "output_type": "stream",
     "text": [
      "Expectation value of VQE Ansatz (theta = 0.1): -1.2679672136171476 Ha\n"
     ]
    }
   ],
   "source": [
    "@qml.qnode(dev)\n",
    "def cost_func(params):\n",
    "    ansatz(params)\n",
    "    return qml.expval(H)\n",
    "\n",
    "print(f\"Expectation value of VQE Ansatz (theta = 0.1): {cost_func([0.1, 0.1])} Ha\")"
   ]
  },
  {
   "cell_type": "markdown",
   "id": "a943111a",
   "metadata": {},
   "source": [
    "### 5. Optimization\n",
    "\n",
    "We can see, that the expectation value of our Ansatz with a random angle $\\theta_{1,2}$ is already smaller than the HF-state. To determine the ground state, we now iterate through our Ansatz with varying gate rotations (= movement of the electrons) using a gardient descent optimizer."
   ]
  },
  {
   "cell_type": "markdown",
   "id": "238b1690",
   "metadata": {},
   "source": [
    "We use gradient descent to optimize the parameters. \n",
    "\n",
    "The quantum computer calculates gradients by running the circuit with slightly different parameters and measures how the energy changes."
   ]
  },
  {
   "cell_type": "code",
   "execution_count": 13,
   "id": "d8954437",
   "metadata": {},
   "outputs": [
    {
     "name": "stdout",
     "output_type": "stream",
     "text": [
      "Step = 0, Energy = -1.26070025 Ha\n",
      "Step = 2, Energy = -1.27115671 Ha\n",
      "Step = 4, Energy = -1.27365804 Ha\n",
      "Step = 6, Energy = -1.27425241 Ha\n",
      "Step = 8, Energy = -1.27439362 Ha\n",
      "Step = 10, Energy = -1.27442718 Ha\n",
      "Step = 12, Energy = -1.27443517 Ha\n",
      "Step = 14, Energy = -1.27443707 Ha\n",
      "Step = 16, Energy = -1.27443752 Ha\n",
      "Step = 18, Energy = -1.27443763 Ha\n"
     ]
    }
   ],
   "source": [
    "opt = qml.GradientDescentOptimizer(stepsize=0.4)\n",
    "theta = np.array([0.0, 0.0], requires_grad=True)\n",
    "\n",
    "energy = [cost_func(theta)]\n",
    "angle = [theta]\n",
    "max_iter = 20\n",
    "\n",
    "for n in range(max_iter):\n",
    "    theta, prev_energy = opt.step_and_cost(cost_func, theta)\n",
    "    energy.append(cost_func(theta))\n",
    "    angle.append(theta)\n",
    "    \n",
    "    if n%2 ==0:\n",
    "        print(f\"Step = {n}, Energy = {energy[-1]:.8f} Ha\")"
   ]
  },
  {
   "cell_type": "code",
   "execution_count": 14,
   "id": "dce699bb",
   "metadata": {},
   "outputs": [
    {
     "name": "stdout",
     "output_type": "stream",
     "text": [
      "Final ground energy: -1.27443764 Ha\n",
      "Final angle parameters: 0.19203468 0.19290335\n",
      "\n",
      "VQE Comparison for H₃⁺\n",
      "Hartree-Fock         | -1.24655016 | baseline\n",
      "VQE (optimized)      | -1.27443764 | 27.887\n",
      "\n",
      "Correlation captured: 2.2372%\n",
      "Parameter magnitude: 0.272193\n",
      "Optimization steps: 20\n"
     ]
    }
   ],
   "source": [
    "print(f\"Final ground energy: {energy[-1]:.8f} Ha\")\n",
    "print(f\"Final angle parameters: {theta[0]:.8f} {theta[1]:.8f}\")\n",
    "\n",
    "print(\"\\nVQE Comparison for H₃⁺\")\n",
    "print(f\"Hartree-Fock         | {h3_hf_energy:.8f} | baseline\")\n",
    "print(f\"VQE (optimized)      | {energy[-1]:.8f} | {(h3_hf_energy-energy[-1])*1000:.3f}\")\n",
    "print(f\"\\nCorrelation captured: {((h3_hf_energy-energy[-1])/abs(h3_hf_energy)*100):.4f}%\")\n",
    "print(f\"Parameter magnitude: {np.linalg.norm(theta):.6f}\")\n",
    "print(f\"Optimization steps: {len(energy)-1}\")"
   ]
  },
  {
   "cell_type": "markdown",
   "id": "c9e13652",
   "metadata": {},
   "source": [
    "After 20 steps, VQE finds the ground state energy of -1.27443763 Ha, which is lower than the Hartree-Fock result. "
   ]
  },
  {
   "cell_type": "code",
   "execution_count": 15,
   "id": "3e02263e",
   "metadata": {},
   "outputs": [
    {
     "data": {
      "image/png": "[encoded data removed]",
      "text/plain": [
       "<Figure size 1000x600 with 1 Axes>"
      ]
     },
     "metadata": {},
     "output_type": "display_data"
    },
    {
     "name": "stdout",
     "output_type": "stream",
     "text": [
      "Energy improvement: 27.887 mHa over 20 steps\n"
     ]
    }
   ],
   "source": [
    "plt.figure(figsize=(10, 6))\n",
    "plt.plot(range(len(energy)), energy, 'b-o', linewidth=2, markersize=4, label='VQE Energy')\n",
    "plt.axhline(y=h3_hf_energy, color='red', linestyle='--', linewidth=2, label='Hartree-Fock')\n",
    "plt.xlabel('Optimization Step')\n",
    "plt.ylabel('Energy (Hartree)')\n",
    "plt.title('VQE Convergence for H₃⁺')\n",
    "plt.legend()\n",
    "plt.grid(True, alpha=0.3)\n",
    "plt.show()\n",
    "\n",
    "print(f\"Energy improvement: {(energy[0] - energy[-1])*1000:.3f} mHa over {len(energy)-1} steps\")"
   ]
  },
  {
   "cell_type": "markdown",
   "id": "b1337b84",
   "metadata": {},
   "source": [
    "### The Ground State"
   ]
  },
  {
   "cell_type": "code",
   "execution_count": 16,
   "id": "d8e1801a",
   "metadata": {},
   "outputs": [
    {
     "data": {
      "text/plain": [
       "tensor([ 0.        +0.j,  0.        +0.j,  0.        +0.j,\n",
       "        -0.09585862+0.j,  0.        +0.j,  0.        +0.j,\n",
       "         0.        +0.j,  0.        +0.j,  0.        +0.j,\n",
       "         0.        +0.j,  0.        +0.j,  0.        +0.j,\n",
       "        -0.09586987+0.j,  0.        +0.j,  0.        +0.j,\n",
       "         0.        +0.j,  0.        +0.j,  0.        +0.j,\n",
       "         0.        +0.j,  0.        +0.j,  0.        +0.j,\n",
       "         0.        +0.j,  0.        +0.j,  0.        +0.j,\n",
       "         0.        +0.j,  0.        +0.j,  0.        +0.j,\n",
       "         0.        +0.j,  0.        +0.j,  0.        +0.j,\n",
       "         0.        +0.j,  0.        +0.j,  0.        +0.j,\n",
       "         0.        +0.j,  0.        +0.j,  0.        +0.j,\n",
       "         0.        +0.j,  0.        +0.j,  0.        +0.j,\n",
       "         0.        +0.j,  0.        +0.j,  0.        +0.j,\n",
       "         0.        +0.j,  0.        +0.j,  0.        +0.j,\n",
       "         0.        +0.j,  0.        +0.j,  0.        +0.j,\n",
       "         0.99076743+0.j,  0.        +0.j,  0.        +0.j,\n",
       "         0.        +0.j,  0.        +0.j,  0.        +0.j,\n",
       "         0.        +0.j,  0.        +0.j,  0.        +0.j,\n",
       "         0.        +0.j,  0.        +0.j,  0.        +0.j,\n",
       "         0.        +0.j,  0.        +0.j,  0.        +0.j,\n",
       "         0.        +0.j], requires_grad=True)"
      ]
     },
     "execution_count": 16,
     "metadata": {},
     "output_type": "execute_result"
    }
   ],
   "source": [
    "@qml.qnode(dev)\n",
    "def ground_state(params):\n",
    "    ansatz(params)\n",
    "    return qml.state()\n",
    "\n",
    "ground_state(theta) # returns the values for alpha, beta, gamma"
   ]
  }
 ],
 "metadata": {
  "kernelspec": {
   "display_name": "Python 3",
   "language": "python",
   "name": "python3"
  },
  "language_info": {
   "codemirror_mode": {
    "name": "ipython",
    "version": 3
   },
   "file_extension": ".py",
   "mimetype": "text/x-python",
   "name": "python",
   "nbconvert_exporter": "python",
   "pygments_lexer": "ipython3",
   "version": "3.11.11"
  }
 },
 "nbformat": 4,
 "nbformat_minor": 5
}
